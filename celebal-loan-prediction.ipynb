{
 "cells": [
  {
   "cell_type": "code",
   "execution_count": 1,
   "id": "f8f52e10",
   "metadata": {
    "_cell_guid": "b1076dfc-b9ad-4769-8c92-a6c4dae69d19",
    "_uuid": "8f2839f25d086af736a60e9eeb907d3b93b6e0e5",
    "execution": {
     "iopub.execute_input": "2024-07-13T11:45:20.071500Z",
     "iopub.status.busy": "2024-07-13T11:45:20.070605Z",
     "iopub.status.idle": "2024-07-13T11:45:20.877796Z",
     "shell.execute_reply": "2024-07-13T11:45:20.876477Z"
    },
    "papermill": {
     "duration": 0.8149,
     "end_time": "2024-07-13T11:45:20.880292",
     "exception": false,
     "start_time": "2024-07-13T11:45:20.065392",
     "status": "completed"
    },
    "tags": []
   },
   "outputs": [
    {
     "name": "stdout",
     "output_type": "stream",
     "text": [
      "/kaggle/input/loan-approval-prediction/Sample_Submission.csv\n",
      "/kaggle/input/loan-approval-prediction/Training Dataset.csv\n",
      "/kaggle/input/loan-approval-prediction/Test Dataset.csv\n"
     ]
    }
   ],
   "source": [
    "# This Python 3 environment comes with many helpful analytics libraries installed\n",
    "# It is defined by the kaggle/python Docker image: https://github.com/kaggle/docker-python\n",
    "# For example, here's several helpful packages to load\n",
    "\n",
    "import numpy as np # linear algebra\n",
    "import pandas as pd # data processing, CSV file I/O (e.g. pd.read_csv)\n",
    "\n",
    "# Input data files are available in the read-only \"../input/\" directory\n",
    "# For example, running this (by clicking run or pressing Shift+Enter) will list all files under the input directory\n",
    "\n",
    "import os\n",
    "for dirname, _, filenames in os.walk('/kaggle/input'):\n",
    "    for filename in filenames:\n",
    "        print(os.path.join(dirname, filename))\n",
    "\n",
    "# You can write up to 20GB to the current directory (/kaggle/working/) that gets preserved as output when you create a version using \"Save & Run All\" \n",
    "# You can also write temporary files to /kaggle/temp/, but they won't be saved outside of the current session"
   ]
  },
  {
   "cell_type": "code",
   "execution_count": 2,
   "id": "13df4f0c",
   "metadata": {
    "execution": {
     "iopub.execute_input": "2024-07-13T11:45:20.888721Z",
     "iopub.status.busy": "2024-07-13T11:45:20.887848Z",
     "iopub.status.idle": "2024-07-13T11:45:22.089863Z",
     "shell.execute_reply": "2024-07-13T11:45:22.088282Z"
    },
    "papermill": {
     "duration": 1.20882,
     "end_time": "2024-07-13T11:45:22.092470",
     "exception": false,
     "start_time": "2024-07-13T11:45:20.883650",
     "status": "completed"
    },
    "tags": []
   },
   "outputs": [],
   "source": [
    "import pandas as pd\n",
    "import numpy as np\n",
    "from sklearn.model_selection import train_test_split\n",
    "from sklearn.preprocessing import StandardScaler, LabelEncoder\n",
    "from sklearn.linear_model import LogisticRegression\n",
    "from sklearn.metrics import accuracy_score, confusion_matrix, classification_report"
   ]
  },
  {
   "cell_type": "code",
   "execution_count": 3,
   "id": "6bef4690",
   "metadata": {
    "execution": {
     "iopub.execute_input": "2024-07-13T11:45:22.100276Z",
     "iopub.status.busy": "2024-07-13T11:45:22.099892Z",
     "iopub.status.idle": "2024-07-13T11:45:22.155484Z",
     "shell.execute_reply": "2024-07-13T11:45:22.154178Z"
    },
    "papermill": {
     "duration": 0.062535,
     "end_time": "2024-07-13T11:45:22.158127",
     "exception": false,
     "start_time": "2024-07-13T11:45:22.095592",
     "status": "completed"
    },
    "tags": []
   },
   "outputs": [
    {
     "name": "stdout",
     "output_type": "stream",
     "text": [
      "<bound method NDFrame.head of       Loan_ID  Gender Married Dependents     Education Self_Employed  \\\n",
      "0    LP001002    Male      No          0      Graduate            No   \n",
      "1    LP001003    Male     Yes          1      Graduate            No   \n",
      "2    LP001005    Male     Yes          0      Graduate           Yes   \n",
      "3    LP001006    Male     Yes          0  Not Graduate            No   \n",
      "4    LP001008    Male      No          0      Graduate            No   \n",
      "..        ...     ...     ...        ...           ...           ...   \n",
      "609  LP002978  Female      No          0      Graduate            No   \n",
      "610  LP002979    Male     Yes         3+      Graduate            No   \n",
      "611  LP002983    Male     Yes          1      Graduate            No   \n",
      "612  LP002984    Male     Yes          2      Graduate            No   \n",
      "613  LP002990  Female      No          0      Graduate           Yes   \n",
      "\n",
      "     ApplicantIncome  CoapplicantIncome  LoanAmount  Loan_Amount_Term  \\\n",
      "0               5849                0.0         NaN             360.0   \n",
      "1               4583             1508.0       128.0             360.0   \n",
      "2               3000                0.0        66.0             360.0   \n",
      "3               2583             2358.0       120.0             360.0   \n",
      "4               6000                0.0       141.0             360.0   \n",
      "..               ...                ...         ...               ...   \n",
      "609             2900                0.0        71.0             360.0   \n",
      "610             4106                0.0        40.0             180.0   \n",
      "611             8072              240.0       253.0             360.0   \n",
      "612             7583                0.0       187.0             360.0   \n",
      "613             4583                0.0       133.0             360.0   \n",
      "\n",
      "     Credit_History Property_Area Loan_Status  \n",
      "0               1.0         Urban           Y  \n",
      "1               1.0         Rural           N  \n",
      "2               1.0         Urban           Y  \n",
      "3               1.0         Urban           Y  \n",
      "4               1.0         Urban           Y  \n",
      "..              ...           ...         ...  \n",
      "609             1.0         Rural           Y  \n",
      "610             1.0         Rural           Y  \n",
      "611             1.0         Urban           Y  \n",
      "612             1.0         Urban           Y  \n",
      "613             0.0     Semiurban           N  \n",
      "\n",
      "[614 rows x 13 columns]>\n",
      "<bound method NDFrame.head of       Loan_ID Gender Married Dependents     Education Self_Employed  \\\n",
      "0    LP001015   Male     Yes          0      Graduate            No   \n",
      "1    LP001022   Male     Yes          1      Graduate            No   \n",
      "2    LP001031   Male     Yes          2      Graduate            No   \n",
      "3    LP001035   Male     Yes          2      Graduate            No   \n",
      "4    LP001051   Male      No          0  Not Graduate            No   \n",
      "..        ...    ...     ...        ...           ...           ...   \n",
      "362  LP002971   Male     Yes         3+  Not Graduate           Yes   \n",
      "363  LP002975   Male     Yes          0      Graduate            No   \n",
      "364  LP002980   Male      No          0      Graduate            No   \n",
      "365  LP002986   Male     Yes          0      Graduate            No   \n",
      "366  LP002989   Male      No          0      Graduate           Yes   \n",
      "\n",
      "     ApplicantIncome  CoapplicantIncome  LoanAmount  Loan_Amount_Term  \\\n",
      "0               5720                  0       110.0             360.0   \n",
      "1               3076               1500       126.0             360.0   \n",
      "2               5000               1800       208.0             360.0   \n",
      "3               2340               2546       100.0             360.0   \n",
      "4               3276                  0        78.0             360.0   \n",
      "..               ...                ...         ...               ...   \n",
      "362             4009               1777       113.0             360.0   \n",
      "363             4158                709       115.0             360.0   \n",
      "364             3250               1993       126.0             360.0   \n",
      "365             5000               2393       158.0             360.0   \n",
      "366             9200                  0        98.0             180.0   \n",
      "\n",
      "     Credit_History Property_Area  \n",
      "0               1.0         Urban  \n",
      "1               1.0         Urban  \n",
      "2               1.0         Urban  \n",
      "3               NaN         Urban  \n",
      "4               1.0         Urban  \n",
      "..              ...           ...  \n",
      "362             1.0         Urban  \n",
      "363             1.0         Urban  \n",
      "364             NaN     Semiurban  \n",
      "365             1.0         Rural  \n",
      "366             1.0         Rural  \n",
      "\n",
      "[367 rows x 12 columns]>\n"
     ]
    }
   ],
   "source": [
    "# Importing Datatset\n",
    "train_data = pd.read_csv(\"/kaggle/input/loan-approval-prediction/Training Dataset.csv\")\n",
    "test_data = pd.read_csv(\"/kaggle/input/loan-approval-prediction/Test Dataset.csv\")\n",
    "\n",
    "# Showing Dataset\n",
    "print(train_data.head)\n",
    "print(test_data.head)"
   ]
  },
  {
   "cell_type": "code",
   "execution_count": 4,
   "id": "8b7a718d",
   "metadata": {
    "execution": {
     "iopub.execute_input": "2024-07-13T11:45:22.166589Z",
     "iopub.status.busy": "2024-07-13T11:45:22.165671Z",
     "iopub.status.idle": "2024-07-13T11:45:22.207128Z",
     "shell.execute_reply": "2024-07-13T11:45:22.205646Z"
    },
    "papermill": {
     "duration": 0.047957,
     "end_time": "2024-07-13T11:45:22.209346",
     "exception": false,
     "start_time": "2024-07-13T11:45:22.161389",
     "status": "completed"
    },
    "tags": []
   },
   "outputs": [
    {
     "name": "stdout",
     "output_type": "stream",
     "text": [
      "     ApplicantIncome  CoapplicantIncome  LoanAmount  Loan_Amount_Term  \\\n",
      "1               4583             1508.0       128.0             360.0   \n",
      "2               3000                0.0        66.0             360.0   \n",
      "3               2583             2358.0       120.0             360.0   \n",
      "4               6000                0.0       141.0             360.0   \n",
      "5               5417             4196.0       267.0             360.0   \n",
      "..               ...                ...         ...               ...   \n",
      "609             2900                0.0        71.0             360.0   \n",
      "610             4106                0.0        40.0             180.0   \n",
      "611             8072              240.0       253.0             360.0   \n",
      "612             7583                0.0       187.0             360.0   \n",
      "613             4583                0.0       133.0             360.0   \n",
      "\n",
      "     Credit_History  Gender  Married  Education  Self_Employed  Property_Area  \\\n",
      "1               1.0       1        1          0              0              0   \n",
      "2               1.0       1        1          0              1              2   \n",
      "3               1.0       1        1          1              0              2   \n",
      "4               1.0       1        0          0              0              2   \n",
      "5               1.0       1        1          0              1              2   \n",
      "..              ...     ...      ...        ...            ...            ...   \n",
      "609             1.0       0        0          0              0              0   \n",
      "610             1.0       1        1          0              0              0   \n",
      "611             1.0       1        1          0              0              2   \n",
      "612             1.0       1        1          0              0              2   \n",
      "613             0.0       0        0          0              1              1   \n",
      "\n",
      "     Dependents  \n",
      "1             1  \n",
      "2             0  \n",
      "3             0  \n",
      "4             0  \n",
      "5             2  \n",
      "..          ...  \n",
      "609           0  \n",
      "610           3  \n",
      "611           1  \n",
      "612           2  \n",
      "613           0  \n",
      "\n",
      "[529 rows x 11 columns]\n",
      "[0 1 1 1 1 1 0 1 0 1 1 1 0 1 1 0 0 0 1 0 0 1 1 1 0 1 0 0 1 0 1 1 1 0 1 1 1\n",
      " 1 0 1 1 1 0 0 0 1 1 0 1 1 1 1 0 0 0 0 1 1 0 1 1 1 1 0 0 0 0 1 0 1 1 1 1 1\n",
      " 1 1 1 1 1 1 1 1 1 1 1 1 1 1 0 0 1 1 1 1 1 1 0 1 1 1 1 1 1 1 0 1 1 1 1 0 0\n",
      " 1 0 0 0 1 1 1 1 1 1 1 0 1 0 1 0 0 1 1 1 1 1 1 0 0 1 1 0 1 0 1 1 1 0 1 0 1\n",
      " 1 0 1 0 0 1 0 1 1 0 1 1 1 0 0 1 1 0 1 0 1 1 1 1 1 1 1 1 0 0 0 1 1 1 1 0 1\n",
      " 0 0 1 1 1 0 0 1 1 1 1 1 1 1 1 1 1 1 0 1 1 1 0 1 1 1 1 0 0 1 1 0 1 0 0 0 1\n",
      " 0 1 1 1 1 1 0 1 1 1 1 1 1 1 1 1 1 0 1 1 1 1 0 1 1 1 1 0 1 0 1 1 1 1 0 0 0\n",
      " 1 1 1 1 1 0 0 1 1 1 0 1 1 0 1 1 1 0 1 1 0 1 1 1 1 1 1 1 1 1 0 0 1 1 1 1 0\n",
      " 1 1 1 0 1 0 1 1 1 0 0 1 0 1 1 1 0 0 1 0 1 1 1 0 1 1 1 0 1 1 1 1 1 0 1 1 1\n",
      " 1 1 1 1 1 0 1 1 0 0 0 1 1 0 1 1 1 0 0 0 0 1 0 1 0 0 1 1 1 1 1 1 0 1 1 1 1\n",
      " 0 1 1 1 1 0 1 1 1 1 1 1 1 0 0 0 0 1 1 1 1 0 1 0 1 1 1 0 1 0 1 1 0 1 0 1 1\n",
      " 1 1 0 1 1 1 1 1 1 1 0 0 1 0 1 1 0 1 1 1 0 1 1 1 1 1 0 1 1 0 1 1 0 0 1 1 0\n",
      " 0 0 1 1 1 1 1 1 1 1 1 1 0 1 1 1 1 0 1 1 0 1 1 1 0 1 0 1 1 0 0 1 1 1 1 1 1\n",
      " 1 1 0 1 0 0 0 1 0 1 0 0 1 0 1 1 1 1 0 1 0 0 1 1 1 0 1 0 1 1 1 1 0 0 1 1 1\n",
      " 1 1 1 1 1 1 1 1 1 1 0] 529\n",
      "     ApplicantIncome  CoapplicantIncome  LoanAmount  Loan_Amount_Term  \\\n",
      "0               5720                  0       110.0             360.0   \n",
      "1               3076               1500       126.0             360.0   \n",
      "2               5000               1800       208.0             360.0   \n",
      "4               3276                  0        78.0             360.0   \n",
      "5               2165               3422       152.0             360.0   \n",
      "..               ...                ...         ...               ...   \n",
      "361             2269               2167        99.0             360.0   \n",
      "362             4009               1777       113.0             360.0   \n",
      "363             4158                709       115.0             360.0   \n",
      "365             5000               2393       158.0             360.0   \n",
      "366             9200                  0        98.0             180.0   \n",
      "\n",
      "     Credit_History  Gender  Married  Education  Self_Employed  Property_Area  \\\n",
      "0               1.0       1        1          0              0              2   \n",
      "1               1.0       1        1          0              0              2   \n",
      "2               1.0       1        1          0              0              2   \n",
      "4               1.0       1        0          1              0              2   \n",
      "5               1.0       1        1          1              1              2   \n",
      "..              ...     ...      ...        ...            ...            ...   \n",
      "361             1.0       1        1          0              0              1   \n",
      "362             1.0       1        1          1              1              2   \n",
      "363             1.0       1        1          0              0              2   \n",
      "365             1.0       1        1          0              0              0   \n",
      "366             1.0       1        0          0              1              0   \n",
      "\n",
      "     Dependents  \n",
      "0             0  \n",
      "1             1  \n",
      "2             2  \n",
      "4             0  \n",
      "5             0  \n",
      "..          ...  \n",
      "361           1  \n",
      "362           3  \n",
      "363           0  \n",
      "365           0  \n",
      "366           0  \n",
      "\n",
      "[328 rows x 11 columns]\n"
     ]
    }
   ],
   "source": [
    "# Selected Features\n",
    "features = ['ApplicantIncome', 'CoapplicantIncome', 'LoanAmount', 'Loan_Amount_Term', 'Credit_History']\n",
    "encoded_features = ['Gender', 'Married', 'Education', 'Self_Employed', 'Property_Area', 'Dependents']\n",
    "\n",
    "# Extracting Features\n",
    "train_data = train_data[features+encoded_features+['Loan_Status']]\n",
    "test_data = test_data[features+encoded_features]\n",
    "\n",
    "# Encoding the features with string values\n",
    "for column in encoded_features:\n",
    "    le = LabelEncoder()\n",
    "    train_data[column] = le.fit_transform(train_data[column].astype(str))\n",
    "    test_data[column] = le.fit_transform(test_data[column].astype(str))\n",
    "\n",
    "# Handling Missing Values\n",
    "train_data = train_data.dropna()\n",
    "test_data = test_data.dropna()\n",
    "    \n",
    "# Features and Labels\n",
    "X = train_data.drop('Loan_Status', axis=1)\n",
    "label = LabelEncoder()\n",
    "Y  = label.fit_transform(train_data['Loan_Status'])\n",
    "\n",
    "# Showing Processed Data\n",
    "print(X)\n",
    "print(Y, len(Y))\n",
    "print(test_data)"
   ]
  },
  {
   "cell_type": "code",
   "execution_count": 5,
   "id": "68f65d46",
   "metadata": {
    "execution": {
     "iopub.execute_input": "2024-07-13T11:45:22.218789Z",
     "iopub.status.busy": "2024-07-13T11:45:22.217690Z",
     "iopub.status.idle": "2024-07-13T11:45:22.227655Z",
     "shell.execute_reply": "2024-07-13T11:45:22.226529Z"
    },
    "papermill": {
     "duration": 0.017,
     "end_time": "2024-07-13T11:45:22.229849",
     "exception": false,
     "start_time": "2024-07-13T11:45:22.212849",
     "status": "completed"
    },
    "tags": []
   },
   "outputs": [
    {
     "name": "stdout",
     "output_type": "stream",
     "text": [
      "Train size : 423\n",
      "Test size : 106\n"
     ]
    }
   ],
   "source": [
    "# Train Test Split\n",
    "X_train, X_test, Y_train, Y_test = train_test_split(X, Y, test_size=0.2, random_state=0)\n",
    "\n",
    "# Showing splitted data\n",
    "print(f\"Train size : {len(X_train)}\")\n",
    "print(f\"Test size : {len(X_test)}\")"
   ]
  },
  {
   "cell_type": "code",
   "execution_count": 6,
   "id": "37c07e03",
   "metadata": {
    "execution": {
     "iopub.execute_input": "2024-07-13T11:45:22.238533Z",
     "iopub.status.busy": "2024-07-13T11:45:22.237730Z",
     "iopub.status.idle": "2024-07-13T11:45:22.251249Z",
     "shell.execute_reply": "2024-07-13T11:45:22.249910Z"
    },
    "papermill": {
     "duration": 0.020213,
     "end_time": "2024-07-13T11:45:22.253511",
     "exception": false,
     "start_time": "2024-07-13T11:45:22.233298",
     "status": "completed"
    },
    "tags": []
   },
   "outputs": [
    {
     "name": "stdout",
     "output_type": "stream",
     "text": [
      "[[ 0.57433706 -0.60600209  1.11261895 ... -0.42297682  1.2378509\n",
      "  -0.77755637]\n",
      " [ 1.6396026  -0.60600209  1.2964439  ...  1.54316817  1.2378509\n",
      "  -0.77755637]\n",
      " [-0.10872579  0.13234255  0.00966928 ... -0.42297682 -0.0518312\n",
      "   1.81907267]\n",
      " ...\n",
      " [-0.33957928 -0.34667382 -0.88647733 ... -0.42297682  1.2378509\n",
      "   0.95352965]\n",
      " [-0.67276199  0.42130833 -0.40393685 ... -0.42297682 -1.34151329\n",
      "  -0.77755637]\n",
      " [ 0.12764245  0.0219428   0.72199094 ... -0.42297682 -0.0518312\n",
      "   0.95352965]]\n",
      "[[-0.50348985  1.86354399 -0.88647733 ... -0.42297682 -0.0518312\n",
      "  -0.77755637]\n",
      " [ 0.06192503 -0.60600209 -0.03628696 ... -0.42297682  1.2378509\n",
      "  -0.77755637]\n",
      " [ 1.70164352 -0.23034656  0.0326474  ...  1.54316817 -1.34151329\n",
      "   0.95352965]\n",
      " ...\n",
      " [-0.67659167  0.5135551  -0.42691497 ...  1.54316817  1.2378509\n",
      "   0.08798664]\n",
      " [ 0.01765386  1.11593763  0.17051611 ... -0.42297682 -1.34151329\n",
      "   0.95352965]\n",
      " [ 0.13269763  1.02998883  0.71050188 ... -0.42297682 -1.34151329\n",
      "  -0.77755637]]\n"
     ]
    }
   ],
   "source": [
    "# Feature Scaling\n",
    "scaler = StandardScaler()\n",
    "X_train = scaler.fit_transform(X_train)\n",
    "X_test = scaler.transform(X_test)\n",
    "\n",
    "# Showing data\n",
    "print(X_train)\n",
    "print(X_test)"
   ]
  },
  {
   "cell_type": "code",
   "execution_count": 7,
   "id": "07f61f8d",
   "metadata": {
    "execution": {
     "iopub.execute_input": "2024-07-13T11:45:22.263060Z",
     "iopub.status.busy": "2024-07-13T11:45:22.261622Z",
     "iopub.status.idle": "2024-07-13T11:45:22.281996Z",
     "shell.execute_reply": "2024-07-13T11:45:22.280960Z"
    },
    "papermill": {
     "duration": 0.027066,
     "end_time": "2024-07-13T11:45:22.284150",
     "exception": false,
     "start_time": "2024-07-13T11:45:22.257084",
     "status": "completed"
    },
    "tags": []
   },
   "outputs": [
    {
     "data": {
      "text/html": [
       "<style>#sk-container-id-1 {color: black;background-color: white;}#sk-container-id-1 pre{padding: 0;}#sk-container-id-1 div.sk-toggleable {background-color: white;}#sk-container-id-1 label.sk-toggleable__label {cursor: pointer;display: block;width: 100%;margin-bottom: 0;padding: 0.3em;box-sizing: border-box;text-align: center;}#sk-container-id-1 label.sk-toggleable__label-arrow:before {content: \"▸\";float: left;margin-right: 0.25em;color: #696969;}#sk-container-id-1 label.sk-toggleable__label-arrow:hover:before {color: black;}#sk-container-id-1 div.sk-estimator:hover label.sk-toggleable__label-arrow:before {color: black;}#sk-container-id-1 div.sk-toggleable__content {max-height: 0;max-width: 0;overflow: hidden;text-align: left;background-color: #f0f8ff;}#sk-container-id-1 div.sk-toggleable__content pre {margin: 0.2em;color: black;border-radius: 0.25em;background-color: #f0f8ff;}#sk-container-id-1 input.sk-toggleable__control:checked~div.sk-toggleable__content {max-height: 200px;max-width: 100%;overflow: auto;}#sk-container-id-1 input.sk-toggleable__control:checked~label.sk-toggleable__label-arrow:before {content: \"▾\";}#sk-container-id-1 div.sk-estimator input.sk-toggleable__control:checked~label.sk-toggleable__label {background-color: #d4ebff;}#sk-container-id-1 div.sk-label input.sk-toggleable__control:checked~label.sk-toggleable__label {background-color: #d4ebff;}#sk-container-id-1 input.sk-hidden--visually {border: 0;clip: rect(1px 1px 1px 1px);clip: rect(1px, 1px, 1px, 1px);height: 1px;margin: -1px;overflow: hidden;padding: 0;position: absolute;width: 1px;}#sk-container-id-1 div.sk-estimator {font-family: monospace;background-color: #f0f8ff;border: 1px dotted black;border-radius: 0.25em;box-sizing: border-box;margin-bottom: 0.5em;}#sk-container-id-1 div.sk-estimator:hover {background-color: #d4ebff;}#sk-container-id-1 div.sk-parallel-item::after {content: \"\";width: 100%;border-bottom: 1px solid gray;flex-grow: 1;}#sk-container-id-1 div.sk-label:hover label.sk-toggleable__label {background-color: #d4ebff;}#sk-container-id-1 div.sk-serial::before {content: \"\";position: absolute;border-left: 1px solid gray;box-sizing: border-box;top: 0;bottom: 0;left: 50%;z-index: 0;}#sk-container-id-1 div.sk-serial {display: flex;flex-direction: column;align-items: center;background-color: white;padding-right: 0.2em;padding-left: 0.2em;position: relative;}#sk-container-id-1 div.sk-item {position: relative;z-index: 1;}#sk-container-id-1 div.sk-parallel {display: flex;align-items: stretch;justify-content: center;background-color: white;position: relative;}#sk-container-id-1 div.sk-item::before, #sk-container-id-1 div.sk-parallel-item::before {content: \"\";position: absolute;border-left: 1px solid gray;box-sizing: border-box;top: 0;bottom: 0;left: 50%;z-index: -1;}#sk-container-id-1 div.sk-parallel-item {display: flex;flex-direction: column;z-index: 1;position: relative;background-color: white;}#sk-container-id-1 div.sk-parallel-item:first-child::after {align-self: flex-end;width: 50%;}#sk-container-id-1 div.sk-parallel-item:last-child::after {align-self: flex-start;width: 50%;}#sk-container-id-1 div.sk-parallel-item:only-child::after {width: 0;}#sk-container-id-1 div.sk-dashed-wrapped {border: 1px dashed gray;margin: 0 0.4em 0.5em 0.4em;box-sizing: border-box;padding-bottom: 0.4em;background-color: white;}#sk-container-id-1 div.sk-label label {font-family: monospace;font-weight: bold;display: inline-block;line-height: 1.2em;}#sk-container-id-1 div.sk-label-container {text-align: center;}#sk-container-id-1 div.sk-container {/* jupyter's `normalize.less` sets `[hidden] { display: none; }` but bootstrap.min.css set `[hidden] { display: none !important; }` so we also need the `!important` here to be able to override the default hidden behavior on the sphinx rendered scikit-learn.org. See: https://github.com/scikit-learn/scikit-learn/issues/21755 */display: inline-block !important;position: relative;}#sk-container-id-1 div.sk-text-repr-fallback {display: none;}</style><div id=\"sk-container-id-1\" class=\"sk-top-container\"><div class=\"sk-text-repr-fallback\"><pre>LogisticRegression()</pre><b>In a Jupyter environment, please rerun this cell to show the HTML representation or trust the notebook. <br />On GitHub, the HTML representation is unable to render, please try loading this page with nbviewer.org.</b></div><div class=\"sk-container\" hidden><div class=\"sk-item\"><div class=\"sk-estimator sk-toggleable\"><input class=\"sk-toggleable__control sk-hidden--visually\" id=\"sk-estimator-id-1\" type=\"checkbox\" checked><label for=\"sk-estimator-id-1\" class=\"sk-toggleable__label sk-toggleable__label-arrow\">LogisticRegression</label><div class=\"sk-toggleable__content\"><pre>LogisticRegression()</pre></div></div></div></div></div>"
      ],
      "text/plain": [
       "LogisticRegression()"
      ]
     },
     "execution_count": 7,
     "metadata": {},
     "output_type": "execute_result"
    }
   ],
   "source": [
    "# Model creation\n",
    "model = LogisticRegression()\n",
    "\n",
    "# Training Model\n",
    "model.fit(X_train, Y_train)"
   ]
  },
  {
   "cell_type": "code",
   "execution_count": 8,
   "id": "9e942e52",
   "metadata": {
    "execution": {
     "iopub.execute_input": "2024-07-13T11:45:22.293118Z",
     "iopub.status.busy": "2024-07-13T11:45:22.292737Z",
     "iopub.status.idle": "2024-07-13T11:45:22.308407Z",
     "shell.execute_reply": "2024-07-13T11:45:22.307118Z"
    },
    "papermill": {
     "duration": 0.022767,
     "end_time": "2024-07-13T11:45:22.310692",
     "exception": false,
     "start_time": "2024-07-13T11:45:22.287925",
     "status": "completed"
    },
    "tags": []
   },
   "outputs": [
    {
     "name": "stdout",
     "output_type": "stream",
     "text": [
      "Accuracy: 0.8018867924528302\n",
      "Confusion Matrix:\n",
      " [[15 21]\n",
      " [ 0 70]]\n",
      "Classification Report:\n",
      "               precision    recall  f1-score   support\n",
      "\n",
      "           0       1.00      0.42      0.59        36\n",
      "           1       0.77      1.00      0.87        70\n",
      "\n",
      "    accuracy                           0.80       106\n",
      "   macro avg       0.88      0.71      0.73       106\n",
      "weighted avg       0.85      0.80      0.77       106\n",
      "\n"
     ]
    }
   ],
   "source": [
    "# Making Predictions\n",
    "y_pred = model.predict(X_test)\n",
    "\n",
    "# Performance Metrics\n",
    "accuracy = accuracy_score(Y_test, y_pred)\n",
    "conf_matrix = confusion_matrix(Y_test, y_pred)\n",
    "class_report = classification_report(Y_test, y_pred)\n",
    "\n",
    "print(\"Accuracy:\", accuracy)\n",
    "print(\"Confusion Matrix:\\n\", conf_matrix)\n",
    "print(\"Classification Report:\\n\", class_report)"
   ]
  }
 ],
 "metadata": {
  "kaggle": {
   "accelerator": "none",
   "dataSources": [
    {
     "datasetId": 1226448,
     "sourceId": 2047352,
     "sourceType": "datasetVersion"
    }
   ],
   "dockerImageVersionId": 30746,
   "isGpuEnabled": false,
   "isInternetEnabled": true,
   "language": "python",
   "sourceType": "notebook"
  },
  "kernelspec": {
   "display_name": "Python 3",
   "language": "python",
   "name": "python3"
  },
  "language_info": {
   "codemirror_mode": {
    "name": "ipython",
    "version": 3
   },
   "file_extension": ".py",
   "mimetype": "text/x-python",
   "name": "python",
   "nbconvert_exporter": "python",
   "pygments_lexer": "ipython3",
   "version": "3.10.13"
  },
  "papermill": {
   "default_parameters": {},
   "duration": 5.635068,
   "end_time": "2024-07-13T11:45:22.936444",
   "environment_variables": {},
   "exception": null,
   "input_path": "__notebook__.ipynb",
   "output_path": "__notebook__.ipynb",
   "parameters": {},
   "start_time": "2024-07-13T11:45:17.301376",
   "version": "2.5.0"
  }
 },
 "nbformat": 4,
 "nbformat_minor": 5
}
