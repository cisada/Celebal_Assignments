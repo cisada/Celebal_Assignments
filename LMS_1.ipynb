{
 "cells": [
  {
   "cell_type": "markdown",
   "id": "61c6d238",
   "metadata": {},
   "source": [
    "# Assignment 1"
   ]
  },
  {
   "cell_type": "markdown",
   "id": "d0fc3eb9",
   "metadata": {},
   "source": [
    "#### Create lower triangular, upper triangular and pyramid containing the \"*\" character."
   ]
  },
  {
   "cell_type": "markdown",
   "id": "72602d8f",
   "metadata": {},
   "source": [
    "### Lower Triangle"
   ]
  },
  {
   "cell_type": "code",
   "execution_count": 7,
   "id": "429a6f12",
   "metadata": {},
   "outputs": [
    {
     "name": "stdout",
     "output_type": "stream",
     "text": [
      "Enter the number of stars: 7\n",
      "              \n",
      "*             \n",
      "* *           \n",
      "* * *         \n",
      "* * * *       \n",
      "* * * * *     \n",
      "* * * * * *   \n"
     ]
    }
   ],
   "source": [
    "#input from user\n",
    "n = int(input('Enter the number of stars: '))\n",
    "\n",
    "#loop\n",
    "for i in range(n):\n",
    "    for j in range(n):\n",
    "        if j < i:\n",
    "            print(\"*\", end = \" \")\n",
    "        else: \n",
    "            print(\" \", end = \" \")\n",
    "    print()"
   ]
  },
  {
   "cell_type": "code",
   "execution_count": 8,
   "id": "ee7f687f",
   "metadata": {},
   "outputs": [
    {
     "name": "stdout",
     "output_type": "stream",
     "text": [
      "          \n",
      "*         \n",
      "* *       \n",
      "* * *     \n",
      "* * * *   \n"
     ]
    }
   ],
   "source": [
    "# without input\n",
    "n = 5\n",
    "\n",
    "#loop\n",
    "for i in range(n):\n",
    "    for j in range(n):\n",
    "        if j < i:\n",
    "            print(\"*\", end = \" \")\n",
    "        else: \n",
    "            print(\" \", end = \" \")\n",
    "    print()"
   ]
  },
  {
   "cell_type": "markdown",
   "id": "4383697e",
   "metadata": {},
   "source": [
    "## Upper traingle\n"
   ]
  },
  {
   "cell_type": "code",
   "execution_count": 19,
   "id": "2d3e3bc2",
   "metadata": {},
   "outputs": [
    {
     "name": "stdout",
     "output_type": "stream",
     "text": [
      "Enter the number of stars: 7\n",
      "  * * * * * * \n",
      "    * * * * * \n",
      "      * * * * \n",
      "        * * * \n",
      "          * * \n",
      "            * \n",
      "              \n"
     ]
    }
   ],
   "source": [
    "n = int(input('Enter the number of stars: '))\n",
    "\n",
    "#loop\n",
    "for i in range(n):\n",
    "    for j in range(n):\n",
    "        if j > i:\n",
    "            print(\"*\", end = \" \")\n",
    "        else: \n",
    "            print(\" \", end = \" \")\n",
    "    print()"
   ]
  },
  {
   "cell_type": "code",
   "execution_count": 13,
   "id": "ba16f45e",
   "metadata": {},
   "outputs": [
    {
     "name": "stdout",
     "output_type": "stream",
     "text": [
      "  * * * * \n",
      "    * * * \n",
      "      * * \n",
      "        * \n",
      "          \n"
     ]
    }
   ],
   "source": [
    "#without user input\n",
    "n = 5\n",
    "\n",
    "#loop\n",
    "for i in range(n):\n",
    "    for j in range(n):\n",
    "        if j > i:\n",
    "            print(\"*\", end = \" \")\n",
    "        else: \n",
    "            print(\" \", end = \" \")\n",
    "    print()"
   ]
  },
  {
   "cell_type": "markdown",
   "id": "d1dd8d5e",
   "metadata": {},
   "source": [
    "## TRAINGLE\n"
   ]
  },
  {
   "cell_type": "code",
   "execution_count": 20,
   "id": "3ea1c87a",
   "metadata": {},
   "outputs": [
    {
     "name": "stdout",
     "output_type": "stream",
     "text": [
      "Enter the number of stars: 7\n",
      "              * \n",
      "            * * * \n",
      "          * * * * * \n",
      "        * * * * * * * \n",
      "      * * * * * * * * * \n",
      "    * * * * * * * * * * * \n",
      "  * * * * * * * * * * * * * \n"
     ]
    }
   ],
   "source": [
    "n = int(input('Enter the number of stars: '))\n",
    "\n",
    "#loop\n",
    "for i in range(n):\n",
    "    for j in range(i, n):\n",
    "        print(\" \", end = \" \")\n",
    "    for k in range(2*i+1):\n",
    "        print(\"*\", end = \" \")\n",
    "    print()"
   ]
  },
  {
   "cell_type": "code",
   "execution_count": 17,
   "id": "8383c001",
   "metadata": {},
   "outputs": [
    {
     "name": "stdout",
     "output_type": "stream",
     "text": [
      "          * \n",
      "        * * * \n",
      "      * * * * * \n",
      "    * * * * * * * \n",
      "  * * * * * * * * * \n"
     ]
    }
   ],
   "source": [
    "#without input from user\n",
    "n = 5\n",
    "for i in range(n):\n",
    "    for j in range(i, n):\n",
    "        print(\" \", end=\" \")\n",
    "    for k in range(2*i+1):\n",
    "        print(\"*\", end=\" \")\n",
    "    print()"
   ]
  },
  {
   "cell_type": "code",
   "execution_count": null,
   "id": "b14267d3",
   "metadata": {},
   "outputs": [],
   "source": []
  }
 ],
 "metadata": {
  "kernelspec": {
   "display_name": "Python 3 (ipykernel)",
   "language": "python",
   "name": "python3"
  },
  "language_info": {
   "codemirror_mode": {
    "name": "ipython",
    "version": 3
   },
   "file_extension": ".py",
   "mimetype": "text/x-python",
   "name": "python",
   "nbconvert_exporter": "python",
   "pygments_lexer": "ipython3",
   "version": "3.9.13"
  }
 },
 "nbformat": 4,
 "nbformat_minor": 5
}
